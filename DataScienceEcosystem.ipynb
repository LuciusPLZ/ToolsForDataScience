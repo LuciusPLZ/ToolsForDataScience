{
 "cells": [
  {
   "cell_type": "markdown",
   "id": "89d15359-0c6f-4225-bd88-4128be28a4dc",
   "metadata": {},
   "source": [
    "# Data Science Tolls and Ecosystem"
   ]
  },
  {
   "cell_type": "markdown",
   "id": "3ce54170-f756-4da0-b103-bfcae1ba204c",
   "metadata": {},
   "source": [
    "# In this notebook, Data Science Tools and Ecosystem are summarized."
   ]
  },
  {
   "cell_type": "markdown",
   "id": "80299933-297b-40f9-a449-b48bdc41233d",
   "metadata": {},
   "source": [
    "**Objectives:**\n",
    "+ R\n",
    "+ Scala\n",
    "+ SQL"
   ]
  },
  {
   "cell_type": "markdown",
   "id": "1dfcccf0-5ee6-4c9d-9af6-c76af61fc247",
   "metadata": {},
   "source": [
    "# Some of popular lanuages that Data Science use are:\n",
    "1. R\n",
    "2. Phyton\n",
    "3. Julia"
   ]
  },
  {
   "cell_type": "markdown",
   "id": "23cf09ad-3780-477c-93f3-ef4525ee4647",
   "metadata": {},
   "source": [
    "# Some of the commonly used libraries used by Data Scientists include:\n",
    "1. Scikit learn\n",
    "2. Matplotlib\n",
    "3. Numpy"
   ]
  },
  {
   "cell_type": "markdown",
   "id": "26f3d5c8-288d-4fd3-b6a1-9f3119d747f5",
   "metadata": {},
   "source": [
    "# Execute it as Markdown cell\n",
    "| Data Science Tools |\n",
    "| -------------------|\n",
    "|Jupiter Lab|\n",
    "|GitHub|\n",
    "|Anaconda|\n"
   ]
  },
  {
   "cell_type": "markdown",
   "id": "09395fe0-a395-4f7a-ba66-e52790728d9a",
   "metadata": {},
   "source": [
    "### Below are a few examples of evaluating arithmetic expressions in Phyton."
   ]
  },
  {
   "cell_type": "markdown",
   "id": "6789417a-4ea2-4072-b2e3-6338db4ad41d",
   "metadata": {},
   "source": [
    "# This is a simple arithmetic expression to multiply then add integers."
   ]
  },
  {
   "cell_type": "code",
   "execution_count": 8,
   "id": "0ad93903-1985-4910-9c9a-64291a9dac26",
   "metadata": {},
   "outputs": [
    {
     "data": {
      "text/plain": [
       "17"
      ]
     },
     "execution_count": 8,
     "metadata": {},
     "output_type": "execute_result"
    }
   ],
   "source": [
    "(3*4)+5"
   ]
  },
  {
   "cell_type": "markdown",
   "id": "ade71d25-6543-49ad-acb2-53889d570299",
   "metadata": {},
   "source": [
    "# This will convert 200 minutes to hours by dividing by 60."
   ]
  },
  {
   "cell_type": "code",
   "execution_count": 19,
   "id": "e65b33f6-2f27-467a-b5da-acb67f3b8910",
   "metadata": {},
   "outputs": [
    {
     "data": {
      "text/plain": [
       "3.3333333333333335"
      ]
     },
     "execution_count": 19,
     "metadata": {},
     "output_type": "execute_result"
    }
   ],
   "source": [
    "200/60"
   ]
  },
  {
   "cell_type": "markdown",
   "id": "3a19f147-a524-4359-a5ee-cc9d241909d1",
   "metadata": {},
   "source": [
    "## Author\n",
    "Karolina"
   ]
  },
  {
   "cell_type": "code",
   "execution_count": null,
   "id": "89d80939-b0f4-4359-b16e-59e74828765b",
   "metadata": {},
   "outputs": [],
   "source": []
  }
 ],
 "metadata": {
  "kernelspec": {
   "display_name": "Python [conda env:base] *",
   "language": "python",
   "name": "conda-base-py"
  },
  "language_info": {
   "codemirror_mode": {
    "name": "ipython",
    "version": 3
   },
   "file_extension": ".py",
   "mimetype": "text/x-python",
   "name": "python",
   "nbconvert_exporter": "python",
   "pygments_lexer": "ipython3",
   "version": "3.12.7"
  }
 },
 "nbformat": 4,
 "nbformat_minor": 5
}
